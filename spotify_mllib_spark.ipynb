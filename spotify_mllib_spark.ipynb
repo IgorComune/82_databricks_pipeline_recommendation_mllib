{
 "cells": [
  {
   "cell_type": "code",
   "execution_count": 0,
   "metadata": {
    "application/vnd.databricks.v1+cell": {
     "cellMetadata": {
      "byteLimit": 2048000,
      "rowLimit": 10000
     },
     "inputWidgets": {},
     "nuid": "334e005d-6db4-41dc-8e70-1167942e220c",
     "showTitle": false,
     "title": ""
    }
   },
   "outputs": [],
   "source": [
    "dbutils.fs.ls('/FileStore/tables/')"
   ]
  },
  {
   "cell_type": "code",
   "execution_count": 0,
   "metadata": {
    "application/vnd.databricks.v1+cell": {
     "cellMetadata": {
      "byteLimit": 2048000,
      "rowLimit": 10000
     },
     "inputWidgets": {},
     "nuid": "214b2661-1272-43f5-b3f0-71182ddb1dbf",
     "showTitle": false,
     "title": ""
    }
   },
   "outputs": [],
   "source": [
    "caminho_data = '/FileStore/tables/data.csv'"
   ]
  },
  {
   "cell_type": "code",
   "execution_count": 0,
   "metadata": {
    "application/vnd.databricks.v1+cell": {
     "cellMetadata": {
      "byteLimit": 2048000,
      "rowLimit": 10000
     },
     "inputWidgets": {},
     "nuid": "e4ba09fa-e5b8-4bf8-8f48-b6fdb4e6c747",
     "showTitle": false,
     "title": ""
    }
   },
   "outputs": [],
   "source": [
    "df_data = spark.read.csv(caminho_data, inferSchema=True, header=True)"
   ]
  },
  {
   "cell_type": "code",
   "execution_count": 0,
   "metadata": {
    "application/vnd.databricks.v1+cell": {
     "cellMetadata": {
      "byteLimit": 2048000,
      "rowLimit": 10000
     },
     "inputWidgets": {},
     "nuid": "bbbd2b3b-e4ce-4e1a-9ffe-78c156dd13c7",
     "showTitle": false,
     "title": ""
    }
   },
   "outputs": [],
   "source": [
    "display(df_data)"
   ]
  },
  {
   "cell_type": "code",
   "execution_count": 0,
   "metadata": {
    "application/vnd.databricks.v1+cell": {
     "cellMetadata": {
      "byteLimit": 2048000,
      "rowLimit": 10000
     },
     "inputWidgets": {},
     "nuid": "befc4744-db66-4619-af4b-a3708085fc6d",
     "showTitle": false,
     "title": ""
    }
   },
   "outputs": [],
   "source": [
    "df_data = df_data.pandas_api()"
   ]
  },
  {
   "cell_type": "code",
   "execution_count": 0,
   "metadata": {
    "application/vnd.databricks.v1+cell": {
     "cellMetadata": {
      "byteLimit": 2048000,
      "rowLimit": 10000
     },
     "inputWidgets": {},
     "nuid": "e43a698d-0220-41ca-9677-bdf4be6e884f",
     "showTitle": false,
     "title": ""
    }
   },
   "outputs": [],
   "source": [
    "type(df_data)"
   ]
  },
  {
   "cell_type": "code",
   "execution_count": 0,
   "metadata": {
    "application/vnd.databricks.v1+cell": {
     "cellMetadata": {
      "byteLimit": 2048000,
      "rowLimit": 10000
     },
     "inputWidgets": {},
     "nuid": "963d91c5-f455-4fdf-af99-69198d4470be",
     "showTitle": false,
     "title": ""
    }
   },
   "outputs": [],
   "source": [
    "df_data.head()"
   ]
  },
  {
   "cell_type": "code",
   "execution_count": 0,
   "metadata": {
    "application/vnd.databricks.v1+cell": {
     "cellMetadata": {
      "byteLimit": 2048000,
      "rowLimit": 10000
     },
     "inputWidgets": {},
     "nuid": "2f6b8abc-46f0-4fb5-8734-624a15720e0c",
     "showTitle": false,
     "title": ""
    }
   },
   "outputs": [],
   "source": [
    "df_data.dtypes"
   ]
  },
  {
   "cell_type": "code",
   "execution_count": 0,
   "metadata": {
    "application/vnd.databricks.v1+cell": {
     "cellMetadata": {
      "byteLimit": 2048000,
      "rowLimit": 10000
     },
     "inputWidgets": {},
     "nuid": "1e6217e1-387e-4b2b-bf19-de6476079308",
     "showTitle": false,
     "title": ""
    }
   },
   "outputs": [],
   "source": [
    "colunas_float = ['acousticness', 'danceability', 'energy', 'instrumentalness', 'liveness', 'loudness', 'speechiness', 'tempo', 'valence']\n",
    "colunas_int = ['duration_ms', 'mode', 'key', 'explicit', 'popularity']"
   ]
  },
  {
   "cell_type": "code",
   "execution_count": 0,
   "metadata": {
    "application/vnd.databricks.v1+cell": {
     "cellMetadata": {
      "byteLimit": 2048000,
      "rowLimit": 10000
     },
     "inputWidgets": {},
     "nuid": "783481c2-4a62-46f4-8e5c-66a046ae3faf",
     "showTitle": false,
     "title": ""
    }
   },
   "outputs": [],
   "source": [
    "df_data[colunas_float] = df_data[colunas_float].astype(float)\n",
    "df_data[colunas_int] = df_data[colunas_int].astype(int)"
   ]
  },
  {
   "cell_type": "code",
   "execution_count": 0,
   "metadata": {
    "application/vnd.databricks.v1+cell": {
     "cellMetadata": {
      "byteLimit": 2048000,
      "rowLimit": 10000
     },
     "inputWidgets": {},
     "nuid": "8f39ec89-c617-408a-bc15-0945fce3e5d6",
     "showTitle": false,
     "title": ""
    }
   },
   "outputs": [],
   "source": [
    "df_data.info()"
   ]
  },
  {
   "cell_type": "code",
   "execution_count": 0,
   "metadata": {
    "application/vnd.databricks.v1+cell": {
     "cellMetadata": {
      "byteLimit": 2048000,
      "rowLimit": 10000
     },
     "inputWidgets": {},
     "nuid": "604d78e3-b92c-4502-80ba-b22248981f1e",
     "showTitle": false,
     "title": ""
    }
   },
   "outputs": [],
   "source": [
    "df_data.head()"
   ]
  },
  {
   "cell_type": "code",
   "execution_count": 0,
   "metadata": {
    "application/vnd.databricks.v1+cell": {
     "cellMetadata": {
      "byteLimit": 2048000,
      "rowLimit": 10000
     },
     "inputWidgets": {},
     "nuid": "fde79dea-01db-4af7-abcd-d32e935839eb",
     "showTitle": false,
     "title": ""
    }
   },
   "outputs": [],
   "source": [
    "df_data['artists'] = df_data.artists.str.replace(\"\\[|\\]|\\'\", \"\")\n",
    "df_data['artists'] = df_data.artists.str.replace(\",\", \";\")"
   ]
  },
  {
   "cell_type": "code",
   "execution_count": 0,
   "metadata": {
    "application/vnd.databricks.v1+cell": {
     "cellMetadata": {
      "byteLimit": 2048000,
      "rowLimit": 10000
     },
     "inputWidgets": {},
     "nuid": "dc6e39b5-351f-4e7b-9b12-6a3a24fa3353",
     "showTitle": false,
     "title": ""
    }
   },
   "outputs": [],
   "source": [
    "df_data.head()"
   ]
  },
  {
   "cell_type": "code",
   "execution_count": 0,
   "metadata": {
    "application/vnd.databricks.v1+cell": {
     "cellMetadata": {
      "byteLimit": 2048000,
      "rowLimit": 10000
     },
     "inputWidgets": {},
     "nuid": "fc745046-32cb-4abc-8c91-3b8f5fc7bc80",
     "showTitle": false,
     "title": ""
    }
   },
   "outputs": [],
   "source": [
    "dbutils.fs.mkdirs('dbfs:/FileStore/data_processed')"
   ]
  },
  {
   "cell_type": "code",
   "execution_count": 0,
   "metadata": {
    "application/vnd.databricks.v1+cell": {
     "cellMetadata": {
      "byteLimit": 2048000,
      "rowLimit": 10000
     },
     "inputWidgets": {},
     "nuid": "a3587ad6-2d3a-4bef-ac3e-0b592455515a",
     "showTitle": false,
     "title": ""
    }
   },
   "outputs": [],
   "source": [
    "df_data.to_parquet('dbfs:/FileStore/data_processed/data.parquet')"
   ]
  },
  {
   "cell_type": "code",
   "execution_count": 0,
   "metadata": {
    "application/vnd.databricks.v1+cell": {
     "cellMetadata": {
      "byteLimit": 2048000,
      "rowLimit": 10000
     },
     "inputWidgets": {},
     "nuid": "1f89aeab-8ccf-4fef-9e70-f3bb8703d43e",
     "showTitle": false,
     "title": ""
    }
   },
   "outputs": [],
   "source": [
    "dbutils.fs.ls('dbfs:/FileStore/data_processed')"
   ]
  },
  {
   "cell_type": "code",
   "execution_count": 0,
   "metadata": {
    "application/vnd.databricks.v1+cell": {
     "cellMetadata": {
      "byteLimit": 2048000,
      "rowLimit": 10000
     },
     "inputWidgets": {},
     "nuid": "ba85e3bf-8b2a-4f7a-ac7c-1b7d05a98ce2",
     "showTitle": false,
     "title": ""
    }
   },
   "outputs": [],
   "source": [
    "import pyspark.pandas as  ps"
   ]
  },
  {
   "cell_type": "code",
   "execution_count": 0,
   "metadata": {
    "application/vnd.databricks.v1+cell": {
     "cellMetadata": {
      "byteLimit": 2048000,
      "rowLimit": 10000
     },
     "inputWidgets": {},
     "nuid": "92a2c4fd-3b1a-4c37-9f98-b2a4920aa33e",
     "showTitle": false,
     "title": ""
    }
   },
   "outputs": [],
   "source": [
    "df = ps.read_parquet('dbfs:/FileStore/data_processed/data.parquet')\n",
    "display(df)"
   ]
  },
  {
   "cell_type": "code",
   "execution_count": 0,
   "metadata": {
    "application/vnd.databricks.v1+cell": {
     "cellMetadata": {
      "byteLimit": 2048000,
      "rowLimit": 10000
     },
     "inputWidgets": {},
     "nuid": "e9b25e85-ad92-4cd9-9ece-b4a54ca47a56",
     "showTitle": false,
     "title": ""
    }
   },
   "outputs": [],
   "source": [
    "df.describe()"
   ]
  },
  {
   "cell_type": "code",
   "execution_count": 0,
   "metadata": {
    "application/vnd.databricks.v1+cell": {
     "cellMetadata": {
      "byteLimit": 2048000,
      "rowLimit": 10000
     },
     "inputWidgets": {},
     "nuid": "e3971a31-0ee9-4fc8-a869-529e60817e5f",
     "showTitle": false,
     "title": ""
    }
   },
   "outputs": [],
   "source": [
    "len(df.year.unique())"
   ]
  },
  {
   "cell_type": "code",
   "execution_count": 0,
   "metadata": {
    "application/vnd.databricks.v1+cell": {
     "cellMetadata": {
      "byteLimit": 2048000,
      "rowLimit": 10000
     },
     "inputWidgets": {},
     "nuid": "0172e8a5-01df-435f-b539-59ef9f65063b",
     "showTitle": false,
     "title": ""
    }
   },
   "outputs": [],
   "source": [
    "df.year.value_counts().sort_index().plot('bar')"
   ]
  },
  {
   "cell_type": "code",
   "execution_count": 0,
   "metadata": {
    "application/vnd.databricks.v1+cell": {
     "cellMetadata": {
      "byteLimit": 2048000,
      "rowLimit": 10000
     },
     "inputWidgets": {},
     "nuid": "9cb9fea8-d128-4c78-9191-9e4a5c673afd",
     "showTitle": false,
     "title": ""
    }
   },
   "outputs": [],
   "source": [
    "df['decade'] = df.year.apply(lambda year: f'{(year//10)*10}s')\n",
    "df.head()"
   ]
  },
  {
   "cell_type": "code",
   "execution_count": 0,
   "metadata": {
    "application/vnd.databricks.v1+cell": {
     "cellMetadata": {
      "byteLimit": 2048000,
      "rowLimit": 10000
     },
     "inputWidgets": {},
     "nuid": "5eedb168-497f-4d69-a9e5-f5c81585873e",
     "showTitle": false,
     "title": ""
    }
   },
   "outputs": [],
   "source": [
    "df_data_2 = df[['decade']]\n",
    "df_data_2['qtd'] = 1"
   ]
  },
  {
   "cell_type": "code",
   "execution_count": 0,
   "metadata": {
    "application/vnd.databricks.v1+cell": {
     "cellMetadata": {
      "byteLimit": 2048000,
      "rowLimit": 10000
     },
     "inputWidgets": {},
     "nuid": "b1e8ccda-6bab-4f85-bbd4-65dabb62706a",
     "showTitle": false,
     "title": ""
    }
   },
   "outputs": [],
   "source": [
    "df_data_2 = df_data_2.groupby('decade').sum()\n",
    "df_data_2"
   ]
  },
  {
   "cell_type": "code",
   "execution_count": 0,
   "metadata": {
    "application/vnd.databricks.v1+cell": {
     "cellMetadata": {
      "byteLimit": 2048000,
      "rowLimit": 10000
     },
     "inputWidgets": {},
     "nuid": "e357f96d-c98c-47a4-ab51-90bf64b4eaef",
     "showTitle": false,
     "title": ""
    }
   },
   "outputs": [],
   "source": [
    "df_data_2.sort_index().plot.bar(y='qtd')"
   ]
  },
  {
   "cell_type": "code",
   "execution_count": 0,
   "metadata": {
    "application/vnd.databricks.v1+cell": {
     "cellMetadata": {
      "byteLimit": 2048000,
      "rowLimit": 10000
     },
     "inputWidgets": {},
     "nuid": "cfdc0c48-b122-442e-a613-963f41f5b708",
     "showTitle": false,
     "title": ""
    }
   },
   "outputs": [],
   "source": [
    "dbutils.fs.ls('/FileStore/tables/')"
   ]
  },
  {
   "cell_type": "code",
   "execution_count": 0,
   "metadata": {
    "application/vnd.databricks.v1+cell": {
     "cellMetadata": {
      "byteLimit": 2048000,
      "rowLimit": 10000
     },
     "inputWidgets": {},
     "nuid": "8685f12d-1860-4a71-897c-be6decc56d7f",
     "showTitle": false,
     "title": ""
    }
   },
   "outputs": [],
   "source": [
    "paths = ['dbfs:/FileStore/tables/data_w_genres.csv',\n",
    "        'dbfs:/FileStore/tables/data_by_year.csv',\n",
    "        'dbfs:/FileStore/tables/data_by_genres.csv',\n",
    "        'dbfs:/FileStore/tables/data_by_artist.csv']"
   ]
  },
  {
   "cell_type": "code",
   "execution_count": 0,
   "metadata": {
    "application/vnd.databricks.v1+cell": {
     "cellMetadata": {
      "byteLimit": 2048000,
      "rowLimit": 10000
     },
     "inputWidgets": {},
     "nuid": "09c2981f-aa10-4d0e-a3fd-071f08162eb9",
     "showTitle": false,
     "title": ""
    }
   },
   "outputs": [],
   "source": [
    "import os\n",
    "\n",
    "for path in paths:\n",
    "    df_data = spark.read.csv(path, inferSchema=True, header=True)\n",
    "    name = os.path.basename(path)\n",
    "    df_data = df_data.pandas_api()\n",
    "    df_data.to_parquet(f'/FileStore/data_processed/{name}.parquet')"
   ]
  },
  {
   "cell_type": "code",
   "execution_count": 0,
   "metadata": {
    "application/vnd.databricks.v1+cell": {
     "cellMetadata": {
      "byteLimit": 2048000,
      "rowLimit": 10000
     },
     "inputWidgets": {},
     "nuid": "3872e2a2-972c-47f6-9744-5b95afd64865",
     "showTitle": false,
     "title": ""
    }
   },
   "outputs": [],
   "source": [
    "dbutils.fs.ls('/FileStore/data_processed/')"
   ]
  },
  {
   "cell_type": "code",
   "execution_count": 0,
   "metadata": {
    "application/vnd.databricks.v1+cell": {
     "cellMetadata": {
      "byteLimit": 2048000,
      "rowLimit": 10000
     },
     "inputWidgets": {},
     "nuid": "42c0b958-5ae7-47f8-bb44-4221ff62b272",
     "showTitle": false,
     "title": ""
    }
   },
   "outputs": [],
   "source": [
    "df_year = ps.read_parquet('dbfs:/FileStore/data_processed/data_by_year.csv.parquet')\n",
    "display(df_year)"
   ]
  },
  {
   "cell_type": "code",
   "execution_count": 0,
   "metadata": {
    "application/vnd.databricks.v1+cell": {
     "cellMetadata": {
      "byteLimit": 2048000,
      "rowLimit": 10000
     },
     "inputWidgets": {},
     "nuid": "e55dd15d-d615-44ce-9330-58c50c44bc2d",
     "showTitle": false,
     "title": ""
    }
   },
   "outputs": [],
   "source": [
    "df_year.plot.line(x='year', y='duration_ms')"
   ]
  },
  {
   "cell_type": "code",
   "execution_count": 0,
   "metadata": {
    "application/vnd.databricks.v1+cell": {
     "cellMetadata": {
      "byteLimit": 2048000,
      "rowLimit": 10000
     },
     "inputWidgets": {},
     "nuid": "b8c1f278-baad-41c6-9c8e-7a56ab2d79c2",
     "showTitle": false,
     "title": ""
    }
   },
   "outputs": [],
   "source": [
    "df_year.plot.line(x='year', y=['acousticness', 'danceability', 'energy',\n",
    "       'instrumentalness', 'liveness', 'speechiness', 'valence'])"
   ]
  },
  {
   "cell_type": "code",
   "execution_count": 0,
   "metadata": {
    "application/vnd.databricks.v1+cell": {
     "cellMetadata": {
      "byteLimit": 2048000,
      "rowLimit": 10000
     },
     "inputWidgets": {},
     "nuid": "632d2908-58cd-41ac-a33c-5cdc673e2eca",
     "showTitle": false,
     "title": ""
    }
   },
   "outputs": [],
   "source": [
    "df_year['decade'] = df_year['year'].apply(lambda row: f'{(row//10)*10}s')\n",
    "df_year['qtd'] = 1"
   ]
  },
  {
   "cell_type": "code",
   "execution_count": 0,
   "metadata": {
    "application/vnd.databricks.v1+cell": {
     "cellMetadata": {
      "byteLimit": 2048000,
      "rowLimit": 10000
     },
     "inputWidgets": {},
     "nuid": "9c2103f8-4205-40ff-a28d-35f68780b475",
     "showTitle": false,
     "title": ""
    }
   },
   "outputs": [],
   "source": [
    "df_year_2 = df_year.groupby('decade').agg({\n",
    "    'acousticness': 'mean',\n",
    "    'danceability': 'mean',\n",
    "    'duration_ms': 'mean',\n",
    "    'energy': 'mean',\n",
    "    'instrumentalness': 'mean',\n",
    "    'liveness': 'mean',\n",
    "    'loudness': 'mean',\n",
    "    'speechiness': 'mean', \n",
    "    'tempo': 'mean',\n",
    "    'valence': 'mean', \n",
    "    'popularity': 'mean',\n",
    "    'qtd': 'sum' }).sort_index().reset_index()"
   ]
  },
  {
   "cell_type": "code",
   "execution_count": 0,
   "metadata": {
    "application/vnd.databricks.v1+cell": {
     "cellMetadata": {
      "byteLimit": 2048000,
      "rowLimit": 10000
     },
     "inputWidgets": {},
     "nuid": "7b95e6e6-58a6-4803-9c52-969f220efece",
     "showTitle": false,
     "title": ""
    }
   },
   "outputs": [],
   "source": [
    "df_year_2.plot.line(x='decade', y=['acousticness', 'danceability', 'energy',\n",
    "       'instrumentalness', 'liveness', 'speechiness', 'valence'])"
   ]
  },
  {
   "cell_type": "code",
   "execution_count": 0,
   "metadata": {
    "application/vnd.databricks.v1+cell": {
     "cellMetadata": {
      "byteLimit": 2048000,
      "rowLimit": 10000
     },
     "inputWidgets": {},
     "nuid": "e55d07c9-5467-4acc-b3fb-d591928ff482",
     "showTitle": false,
     "title": ""
    }
   },
   "outputs": [],
   "source": [
    "df_genres = ps.read_parquet('dbfs:/FileStore/data_processed/data_by_genres.csv.parquet')\n",
    "display(df_genres)"
   ]
  },
  {
   "cell_type": "code",
   "execution_count": 0,
   "metadata": {
    "application/vnd.databricks.v1+cell": {
     "cellMetadata": {
      "byteLimit": 2048000,
      "rowLimit": 10000
     },
     "inputWidgets": {},
     "nuid": "db9351df-af9b-4297-89ed-db6c6aa30078",
     "showTitle": false,
     "title": ""
    }
   },
   "outputs": [],
   "source": [
    "df_wgenres = ps.read_parquet('dbfs:/FileStore/data_processed/data_w_genres.csv.parquet')\n",
    "display(df_wgenres)"
   ]
  },
  {
   "cell_type": "code",
   "execution_count": 0,
   "metadata": {
    "application/vnd.databricks.v1+cell": {
     "cellMetadata": {
      "byteLimit": 2048000,
      "rowLimit": 10000
     },
     "inputWidgets": {},
     "nuid": "e1ab4b00-1003-4fe8-abdf-3c6abace98be",
     "showTitle": false,
     "title": ""
    }
   },
   "outputs": [],
   "source": [
    "df_artists = ps.read_parquet('dbfs:/FileStore/data_processed/data_by_artist.csv.parquet')\n",
    "display(df_artists)"
   ]
  },
  {
   "cell_type": "code",
   "execution_count": 0,
   "metadata": {
    "application/vnd.databricks.v1+cell": {
     "cellMetadata": {
      "byteLimit": 2048000,
      "rowLimit": 10000
     },
     "inputWidgets": {},
     "nuid": "7a9294ac-e2da-49d1-b34b-b7b1671a2126",
     "showTitle": false,
     "title": ""
    }
   },
   "outputs": [],
   "source": [
    "artista_ordenado = df_artists.sort_values(by='count', ascending=False)\n",
    "display(artista_ordenado)"
   ]
  },
  {
   "cell_type": "code",
   "execution_count": 0,
   "metadata": {
    "application/vnd.databricks.v1+cell": {
     "cellMetadata": {
      "byteLimit": 2048000,
      "rowLimit": 10000
     },
     "inputWidgets": {},
     "nuid": "a45c0041-5d0c-4aac-9622-4f4cc5ecaba2",
     "showTitle": false,
     "title": ""
    }
   },
   "outputs": [],
   "source": [
    "top_artistas = artista_ordenado.iloc[:10]\n",
    "display(top_artistas)"
   ]
  },
  {
   "cell_type": "code",
   "execution_count": 0,
   "metadata": {
    "application/vnd.databricks.v1+cell": {
     "cellMetadata": {
      "byteLimit": 2048000,
      "rowLimit": 10000
     },
     "inputWidgets": {},
     "nuid": "9443cf80-fe59-4db2-aecb-6e9ccdece123",
     "showTitle": false,
     "title": ""
    }
   },
   "outputs": [],
   "source": [
    "plot_title = 'Top 10 Artistas'\n",
    "top_artistas.plot.bar(x='count', y = 'artists', title = plot_title)"
   ]
  },
  {
   "cell_type": "code",
   "execution_count": 0,
   "metadata": {
    "application/vnd.databricks.v1+cell": {
     "cellMetadata": {
      "byteLimit": 2048000,
      "rowLimit": 10000
     },
     "inputWidgets": {},
     "nuid": "b233e4b5-b72d-42e2-8f27-ab6d81dbf57b",
     "showTitle": false,
     "title": ""
    }
   },
   "outputs": [],
   "source": [
    "lista_artistas = top_artistas.artists.unique().to_list()\n",
    "lista_artistas"
   ]
  },
  {
   "cell_type": "code",
   "execution_count": 0,
   "metadata": {
    "application/vnd.databricks.v1+cell": {
     "cellMetadata": {
      "byteLimit": 2048000,
      "rowLimit": 10000
     },
     "inputWidgets": {},
     "nuid": "55db1de3-0b51-4b12-bcb1-fd78189dce95",
     "showTitle": false,
     "title": ""
    }
   },
   "outputs": [],
   "source": [
    "artista_genero = df_wgenres.loc[df_wgenres['artists'].isin(lista_artistas)]\n",
    "artista_genero = artista_genero[['genres', 'artists']]\n",
    "display(artista_genero)"
   ]
  },
  {
   "cell_type": "code",
   "execution_count": 0,
   "metadata": {
    "application/vnd.databricks.v1+cell": {
     "cellMetadata": {
      "byteLimit": 2048000,
      "rowLimit": 10000
     },
     "inputWidgets": {},
     "nuid": "2f317e1f-7109-4798-a8ce-181485753188",
     "showTitle": false,
     "title": ""
    }
   },
   "outputs": [],
   "source": []
  },
  {
   "cell_type": "code",
   "execution_count": 0,
   "metadata": {
    "application/vnd.databricks.v1+cell": {
     "cellMetadata": {
      "byteLimit": 2048000,
      "rowLimit": 10000
     },
     "inputWidgets": {},
     "nuid": "c382b248-dc17-410d-a9fa-73a4b7e68355",
     "showTitle": false,
     "title": ""
    }
   },
   "outputs": [],
   "source": [
    "display(df_data)"
   ]
  },
  {
   "cell_type": "code",
   "execution_count": 0,
   "metadata": {
    "application/vnd.databricks.v1+cell": {
     "cellMetadata": {
      "byteLimit": 2048000,
      "rowLimit": 10000
     },
     "inputWidgets": {},
     "nuid": "b1d74b3c-c2e2-48d2-95ae-0e8b75d33eeb",
     "showTitle": false,
     "title": ""
    }
   },
   "outputs": [],
   "source": [
    "df_data.dropna(inplace=True)"
   ]
  },
  {
   "cell_type": "code",
   "execution_count": 0,
   "metadata": {
    "application/vnd.databricks.v1+cell": {
     "cellMetadata": {
      "byteLimit": 2048000,
      "rowLimit": 10000
     },
     "inputWidgets": {},
     "nuid": "2cdf32d9-4a17-45c1-981b-bf9082125e84",
     "showTitle": false,
     "title": ""
    }
   },
   "outputs": [],
   "source": [
    "df_data['artists_song'] = df_data.artists + ' - ' + df_data.name"
   ]
  },
  {
   "cell_type": "code",
   "execution_count": 0,
   "metadata": {
    "application/vnd.databricks.v1+cell": {
     "cellMetadata": {
      "byteLimit": 2048000,
      "rowLimit": 10000
     },
     "inputWidgets": {},
     "nuid": "0256e14e-e5bf-45f7-ae7c-6d00c0970e2d",
     "showTitle": false,
     "title": ""
    }
   },
   "outputs": [],
   "source": [
    "df_data.head()"
   ]
  },
  {
   "cell_type": "code",
   "execution_count": 0,
   "metadata": {
    "application/vnd.databricks.v1+cell": {
     "cellMetadata": {
      "byteLimit": 2048000,
      "rowLimit": 10000
     },
     "inputWidgets": {},
     "nuid": "6bff59c0-2437-4c51-8de7-1addfd6dcce2",
     "showTitle": false,
     "title": ""
    }
   },
   "outputs": [],
   "source": [
    "df_data.info()"
   ]
  },
  {
   "cell_type": "code",
   "execution_count": 0,
   "metadata": {
    "application/vnd.databricks.v1+cell": {
     "cellMetadata": {
      "byteLimit": 2048000,
      "rowLimit": 10000
     },
     "inputWidgets": {},
     "nuid": "f7e42234-1e2e-462a-ae00-27d7ce3ed7b4",
     "showTitle": false,
     "title": ""
    }
   },
   "outputs": [],
   "source": [
    "X = df_data.columns.to_list()\n",
    "X.remove('artists')\n",
    "X.remove('id')\n",
    "X.remove('name')\n",
    "X.remove('artists_song')\n",
    "X.remove('release_date')\n",
    "X"
   ]
  },
  {
   "cell_type": "code",
   "execution_count": 0,
   "metadata": {
    "application/vnd.databricks.v1+cell": {
     "cellMetadata": {
      "byteLimit": 2048000,
      "rowLimit": 10000
     },
     "inputWidgets": {},
     "nuid": "625d67ce-85a3-47d7-9bd1-f04bcc6edc22",
     "showTitle": false,
     "title": ""
    }
   },
   "outputs": [],
   "source": [
    "df_data = df_data.to_spark()"
   ]
  },
  {
   "cell_type": "code",
   "execution_count": 0,
   "metadata": {
    "application/vnd.databricks.v1+cell": {
     "cellMetadata": {
      "byteLimit": 2048000,
      "rowLimit": 10000
     },
     "inputWidgets": {},
     "nuid": "d467625b-8f10-4ab1-8403-d0c13f5e6369",
     "showTitle": false,
     "title": ""
    }
   },
   "outputs": [],
   "source": [
    "from pyspark.ml.feature import VectorAssembler"
   ]
  },
  {
   "cell_type": "code",
   "execution_count": 0,
   "metadata": {
    "application/vnd.databricks.v1+cell": {
     "cellMetadata": {
      "byteLimit": 2048000,
      "rowLimit": 10000
     },
     "inputWidgets": {},
     "nuid": "b5ab3ba1-7eba-4097-8690-e177c79e1901",
     "showTitle": false,
     "title": ""
    }
   },
   "outputs": [],
   "source": [
    "dados_encoded_vector = VectorAssembler(inputCols=X, outputCol='features').transform(df_data)"
   ]
  },
  {
   "cell_type": "code",
   "execution_count": 0,
   "metadata": {
    "application/vnd.databricks.v1+cell": {
     "cellMetadata": {
      "byteLimit": 2048000,
      "rowLimit": 10000
     },
     "inputWidgets": {},
     "nuid": "0432a182-3d12-4445-9ef6-031304b4bc50",
     "showTitle": false,
     "title": ""
    }
   },
   "outputs": [],
   "source": [
    "dados_encoded_vector.select('features').show()"
   ]
  },
  {
   "cell_type": "code",
   "execution_count": 0,
   "metadata": {
    "application/vnd.databricks.v1+cell": {
     "cellMetadata": {
      "byteLimit": 2048000,
      "rowLimit": 10000
     },
     "inputWidgets": {},
     "nuid": "df480fde-91d1-46c8-b1f9-3e28d6c0742c",
     "showTitle": false,
     "title": ""
    }
   },
   "outputs": [],
   "source": [
    "from pyspark.ml.feature import StandardScaler"
   ]
  },
  {
   "cell_type": "code",
   "execution_count": 0,
   "metadata": {
    "application/vnd.databricks.v1+cell": {
     "cellMetadata": {
      "byteLimit": 2048000,
      "rowLimit": 10000
     },
     "inputWidgets": {},
     "nuid": "4f885111-590f-4fb7-86f7-406f1240b8d1",
     "showTitle": false,
     "title": ""
    }
   },
   "outputs": [],
   "source": [
    "scaler = StandardScaler(inputCol='features', outputCol='features_scaled')\n",
    "model_scaler = scaler.fit(dados_encoded_vector)\n",
    "model_scaler"
   ]
  },
  {
   "cell_type": "code",
   "execution_count": 0,
   "metadata": {
    "application/vnd.databricks.v1+cell": {
     "cellMetadata": {
      "byteLimit": 2048000,
      "rowLimit": 10000
     },
     "inputWidgets": {},
     "nuid": "adc2b86a-414a-441b-b220-9031a7afa130",
     "showTitle": false,
     "title": ""
    }
   },
   "outputs": [],
   "source": [
    "dados_musicas_scaler = model_scaler.transform(dados_encoded_vector)\n",
    "dados_musicas_scaler"
   ]
  },
  {
   "cell_type": "code",
   "execution_count": 0,
   "metadata": {
    "application/vnd.databricks.v1+cell": {
     "cellMetadata": {
      "byteLimit": 2048000,
      "rowLimit": 10000
     },
     "inputWidgets": {},
     "nuid": "cb2dbf2e-84b0-47f8-a70d-a8233e7378ef",
     "showTitle": false,
     "title": ""
    }
   },
   "outputs": [],
   "source": [
    "dados_musicas_scaler.select('features_scaled').show(5)"
   ]
  },
  {
   "cell_type": "code",
   "execution_count": 0,
   "metadata": {
    "application/vnd.databricks.v1+cell": {
     "cellMetadata": {
      "byteLimit": 2048000,
      "rowLimit": 10000
     },
     "inputWidgets": {},
     "nuid": "19c47831-df6d-4ec7-8d95-640e09604292",
     "showTitle": false,
     "title": ""
    }
   },
   "outputs": [],
   "source": [
    "k = len(X)\n",
    "k"
   ]
  },
  {
   "cell_type": "code",
   "execution_count": 0,
   "metadata": {
    "application/vnd.databricks.v1+cell": {
     "cellMetadata": {
      "byteLimit": 2048000,
      "rowLimit": 10000
     },
     "inputWidgets": {},
     "nuid": "8fd7b2db-52e9-4bab-a18b-7baee2b0a8e8",
     "showTitle": false,
     "title": ""
    }
   },
   "outputs": [],
   "source": [
    "from pyspark.ml.feature import PCA"
   ]
  },
  {
   "cell_type": "code",
   "execution_count": 0,
   "metadata": {
    "application/vnd.databricks.v1+cell": {
     "cellMetadata": {
      "byteLimit": 2048000,
      "rowLimit": 10000
     },
     "inputWidgets": {},
     "nuid": "f65c9d92-b4a3-4cd1-9e5e-e37e30ca429f",
     "showTitle": false,
     "title": ""
    }
   },
   "outputs": [],
   "source": [
    "pca = PCA(k=k, inputCol='features_scaled', outputCol='pca_features')\n",
    "model_pca = pca.fit(dados_musicas_scaler)\n",
    "model_pca"
   ]
  },
  {
   "cell_type": "code",
   "execution_count": 0,
   "metadata": {
    "application/vnd.databricks.v1+cell": {
     "cellMetadata": {
      "byteLimit": 2048000,
      "rowLimit": 10000
     },
     "inputWidgets": {},
     "nuid": "22e27280-4f65-427e-8dfa-e70a78cf9220",
     "showTitle": false,
     "title": ""
    }
   },
   "outputs": [],
   "source": [
    "dados_musicas_pca = model_pca.transform(dados_musicas_scaler)\n",
    "dados_musicas_pca"
   ]
  },
  {
   "cell_type": "code",
   "execution_count": 0,
   "metadata": {
    "application/vnd.databricks.v1+cell": {
     "cellMetadata": {
      "byteLimit": 2048000,
      "rowLimit": 10000
     },
     "inputWidgets": {},
     "nuid": "3d68e001-bef9-40c9-a5cb-6736746b6718",
     "showTitle": false,
     "title": ""
    }
   },
   "outputs": [],
   "source": [
    "dados_musicas_pca.show(5)"
   ]
  },
  {
   "cell_type": "code",
   "execution_count": 0,
   "metadata": {
    "application/vnd.databricks.v1+cell": {
     "cellMetadata": {
      "byteLimit": 2048000,
      "rowLimit": 10000
     },
     "inputWidgets": {},
     "nuid": "33e13b81-9247-42bc-a1bf-3f72e8f31e77",
     "showTitle": false,
     "title": ""
    }
   },
   "outputs": [],
   "source": [
    "model_pca.explainedVariance * 100"
   ]
  },
  {
   "cell_type": "code",
   "execution_count": 0,
   "metadata": {
    "application/vnd.databricks.v1+cell": {
     "cellMetadata": {
      "byteLimit": 2048000,
      "rowLimit": 10000
     },
     "inputWidgets": {},
     "nuid": "fc90b77b-5e03-4bdd-8fc6-a98d96811373",
     "showTitle": false,
     "title": ""
    }
   },
   "outputs": [],
   "source": [
    "lista_valores = [sum(model_pca.explainedVariance[0:i+1]) for i in range(k)]\n",
    "lista_valores"
   ]
  },
  {
   "cell_type": "code",
   "execution_count": 0,
   "metadata": {
    "application/vnd.databricks.v1+cell": {
     "cellMetadata": {
      "byteLimit": 2048000,
      "rowLimit": 10000
     },
     "inputWidgets": {},
     "nuid": "d3588cff-5730-404a-a956-91531a1410f6",
     "showTitle": false,
     "title": ""
    }
   },
   "outputs": [],
   "source": [
    "import numpy as np"
   ]
  },
  {
   "cell_type": "code",
   "execution_count": 0,
   "metadata": {
    "application/vnd.databricks.v1+cell": {
     "cellMetadata": {
      "byteLimit": 2048000,
      "rowLimit": 10000
     },
     "inputWidgets": {},
     "nuid": "8db54660-97ef-4205-9a8d-23304ff851f8",
     "showTitle": false,
     "title": ""
    }
   },
   "outputs": [],
   "source": [
    "k = sum(np.array(lista_valores) <= 0.7)\n",
    "k"
   ]
  },
  {
   "cell_type": "code",
   "execution_count": 0,
   "metadata": {
    "application/vnd.databricks.v1+cell": {
     "cellMetadata": {
      "byteLimit": 2048000,
      "rowLimit": 10000
     },
     "inputWidgets": {},
     "nuid": "57d7badb-0e58-4222-a6fa-404bea5c362c",
     "showTitle": false,
     "title": ""
    }
   },
   "outputs": [],
   "source": [
    "pca = PCA(k=6, inputCol='features_scaled', outputCol='pca_features')\n",
    "model_pca = pca.fit(dados_musicas_scaler)\n",
    "dados_musicas_pca_final = model_pca.transform(dados_musicas_scaler)\n",
    "dados_musicas_pca_final.select('pca_features').show(truncate=False, n=5)"
   ]
  },
  {
   "cell_type": "markdown",
   "metadata": {
    "application/vnd.databricks.v1+cell": {
     "cellMetadata": {},
     "inputWidgets": {},
     "nuid": "d633b76f-621e-4433-9851-27b869c57e70",
     "showTitle": false,
     "title": ""
    }
   },
   "source": [
    "# Clustering"
   ]
  },
  {
   "cell_type": "code",
   "execution_count": 0,
   "metadata": {
    "application/vnd.databricks.v1+cell": {
     "cellMetadata": {
      "byteLimit": 2048000,
      "rowLimit": 10000
     },
     "inputWidgets": {},
     "nuid": "0455da40-6d4c-4331-a881-9538e7e1f13a",
     "showTitle": false,
     "title": ""
    }
   },
   "outputs": [],
   "source": [
    "from pyspark.ml import Pipeline"
   ]
  },
  {
   "cell_type": "code",
   "execution_count": 0,
   "metadata": {
    "application/vnd.databricks.v1+cell": {
     "cellMetadata": {
      "byteLimit": 2048000,
      "rowLimit": 10000
     },
     "inputWidgets": {},
     "nuid": "24f87a08-6fa2-48f6-a647-b4c056ac9c0e",
     "showTitle": false,
     "title": ""
    }
   },
   "outputs": [],
   "source": [
    "pca_pipeline = Pipeline(stages=[VectorAssembler(inputCols=X, outputCol='features'),\n",
    "                                StandardScaler(inputCol='features', outputCol='features_scaled'),\n",
    "                                PCA(k=6, inputCol='features_scaled', outputCol='pca_features')])"
   ]
  },
  {
   "cell_type": "code",
   "execution_count": 0,
   "metadata": {
    "application/vnd.databricks.v1+cell": {
     "cellMetadata": {
      "byteLimit": 2048000,
      "rowLimit": 10000
     },
     "inputWidgets": {},
     "nuid": "0b63f9ea-f207-426d-b4b5-77b5e278a092",
     "showTitle": false,
     "title": ""
    }
   },
   "outputs": [],
   "source": [
    "model_pca_pipeline = pca_pipeline.fit(df_data)"
   ]
  },
  {
   "cell_type": "code",
   "execution_count": 0,
   "metadata": {
    "application/vnd.databricks.v1+cell": {
     "cellMetadata": {
      "byteLimit": 2048000,
      "rowLimit": 10000
     },
     "inputWidgets": {},
     "nuid": "838902cc-7c67-46f4-865e-858a85775cc8",
     "showTitle": false,
     "title": ""
    }
   },
   "outputs": [],
   "source": [
    "projection = model_pca_pipeline.transform(df_data)"
   ]
  },
  {
   "cell_type": "code",
   "execution_count": 0,
   "metadata": {
    "application/vnd.databricks.v1+cell": {
     "cellMetadata": {
      "byteLimit": 2048000,
      "rowLimit": 10000
     },
     "inputWidgets": {},
     "nuid": "005d86fd-61c2-4b3b-a4c6-5981175fec49",
     "showTitle": false,
     "title": ""
    }
   },
   "outputs": [],
   "source": [
    "projection.select('pca_features').show()"
   ]
  },
  {
   "cell_type": "code",
   "execution_count": 0,
   "metadata": {
    "application/vnd.databricks.v1+cell": {
     "cellMetadata": {
      "byteLimit": 2048000,
      "rowLimit": 10000
     },
     "inputWidgets": {},
     "nuid": "9165bf40-305c-49c9-b711-9170a2514f2f",
     "showTitle": false,
     "title": ""
    }
   },
   "outputs": [],
   "source": [
    "from pyspark.ml.clustering import KMeans"
   ]
  },
  {
   "cell_type": "code",
   "execution_count": 0,
   "metadata": {
    "application/vnd.databricks.v1+cell": {
     "cellMetadata": {
      "byteLimit": 2048000,
      "rowLimit": 10000
     },
     "inputWidgets": {},
     "nuid": "f1589a19-15ad-4708-abdc-ab1889dbc834",
     "showTitle": false,
     "title": ""
    }
   },
   "outputs": [],
   "source": [
    "kmeans = KMeans(k=50, featuresCol='pca_features', predictionCol='cluster_pca', seed=1224)"
   ]
  },
  {
   "cell_type": "code",
   "execution_count": 0,
   "metadata": {
    "application/vnd.databricks.v1+cell": {
     "cellMetadata": {
      "byteLimit": 2048000,
      "rowLimit": 10000
     },
     "inputWidgets": {},
     "nuid": "1df46739-083d-4274-aadd-77c9216c1609",
     "showTitle": false,
     "title": ""
    }
   },
   "outputs": [],
   "source": [
    "modelo_kmeans = kmeans.fit(projection)"
   ]
  },
  {
   "cell_type": "code",
   "execution_count": 0,
   "metadata": {
    "application/vnd.databricks.v1+cell": {
     "cellMetadata": {
      "byteLimit": 2048000,
      "rowLimit": 10000
     },
     "inputWidgets": {},
     "nuid": "d58effe9-582c-4635-a282-a0ad78864749",
     "showTitle": false,
     "title": ""
    }
   },
   "outputs": [],
   "source": [
    "projection_kmeans = modelo_kmeans.transform(projection) "
   ]
  },
  {
   "cell_type": "code",
   "execution_count": 0,
   "metadata": {
    "application/vnd.databricks.v1+cell": {
     "cellMetadata": {
      "byteLimit": 2048000,
      "rowLimit": 10000
     },
     "inputWidgets": {},
     "nuid": "c3255bd8-08e5-4285-bbe3-613dc9fe9e03",
     "showTitle": false,
     "title": ""
    }
   },
   "outputs": [],
   "source": [
    "projection_kmeans.select(['pca_features','cluster_pca']).show()"
   ]
  },
  {
   "cell_type": "code",
   "execution_count": 0,
   "metadata": {
    "application/vnd.databricks.v1+cell": {
     "cellMetadata": {
      "byteLimit": 2048000,
      "rowLimit": 10000
     },
     "inputWidgets": {},
     "nuid": "70f3338e-bcc3-4d11-99fe-f149165d1c4e",
     "showTitle": false,
     "title": ""
    }
   },
   "outputs": [],
   "source": [
    "from pyspark.ml.functions import vector_to_array"
   ]
  },
  {
   "cell_type": "code",
   "execution_count": 0,
   "metadata": {
    "application/vnd.databricks.v1+cell": {
     "cellMetadata": {
      "byteLimit": 2048000,
      "rowLimit": 10000
     },
     "inputWidgets": {},
     "nuid": "691cd954-25d7-4b46-93d2-d79d30239a7c",
     "showTitle": false,
     "title": ""
    }
   },
   "outputs": [],
   "source": [
    "projection_kmeans = projection_kmeans.withColumn('x', vector_to_array('pca_features'))\\\n",
    "                                     .withColumn('y', vector_to_array('pca_features'))"
   ]
  },
  {
   "cell_type": "code",
   "execution_count": 0,
   "metadata": {
    "application/vnd.databricks.v1+cell": {
     "cellMetadata": {
      "byteLimit": 2048000,
      "rowLimit": 10000
     },
     "inputWidgets": {},
     "nuid": "2bb96221-ca86-42ef-9b1c-c47bd97f4d3d",
     "showTitle": false,
     "title": ""
    }
   },
   "outputs": [],
   "source": [
    "projection_kmeans.select(['x', 'y', 'cluster_pca', 'artists_song']).show()"
   ]
  },
  {
   "cell_type": "code",
   "execution_count": 0,
   "metadata": {
    "application/vnd.databricks.v1+cell": {
     "cellMetadata": {
      "byteLimit": 2048000,
      "rowLimit": 10000
     },
     "inputWidgets": {},
     "nuid": "a0d13510-ea0e-49ed-8143-f33f1eb419e3",
     "showTitle": false,
     "title": ""
    }
   },
   "outputs": [],
   "source": [
    "import plotly.express as px"
   ]
  },
  {
   "cell_type": "code",
   "execution_count": 0,
   "metadata": {
    "application/vnd.databricks.v1+cell": {
     "cellMetadata": {
      "byteLimit": 2048000,
      "rowLimit": 10000
     },
     "inputWidgets": {},
     "nuid": "d31da24d-4421-49d9-b5bf-ff68254158cb",
     "showTitle": false,
     "title": ""
    }
   },
   "outputs": [],
   "source": [
    "fig = px.scatter(projection_kmeans.toPandas(), x='x', y='y', color='cluster_pca', hover_data=['artists_song'])\n",
    "fig.show()"
   ]
  },
  {
   "cell_type": "code",
   "execution_count": 0,
   "metadata": {
    "application/vnd.databricks.v1+cell": {
     "cellMetadata": {
      "byteLimit": 2048000,
      "rowLimit": 10000
     },
     "inputWidgets": {},
     "nuid": "daa3391c-1f7c-42e8-94b5-d84dec639805",
     "showTitle": false,
     "title": ""
    }
   },
   "outputs": [],
   "source": [
    "nome_musica = 'Taylor Swift - Blank Space'"
   ]
  },
  {
   "cell_type": "code",
   "execution_count": 0,
   "metadata": {
    "application/vnd.databricks.v1+cell": {
     "cellMetadata": {
      "byteLimit": 2048000,
      "rowLimit": 10000
     },
     "inputWidgets": {},
     "nuid": "e4b4c05a-97c7-4f6c-859b-ee79b7acc6bf",
     "showTitle": false,
     "title": ""
    }
   },
   "outputs": [],
   "source": [
    "cluster = projection_kmeans.filter(projection_kmeans.artists_song == nome_musica).select('cluster_pca').collect()[0][0]\n",
    "cluster"
   ]
  },
  {
   "cell_type": "code",
   "execution_count": 0,
   "metadata": {
    "application/vnd.databricks.v1+cell": {
     "cellMetadata": {
      "byteLimit": 2048000,
      "rowLimit": 10000
     },
     "inputWidgets": {},
     "nuid": "38e478b3-47a6-4c62-bf4b-835783a5d891",
     "showTitle": false,
     "title": ""
    }
   },
   "outputs": [],
   "source": [
    "musicas_recomendadas = projection_kmeans.filter(projection_kmeans.cluster_pca == cluster)\\\n",
    "                                       .select('artists_song', 'id', 'pca_features')\n",
    "musicas_recomendadas.show()"
   ]
  },
  {
   "cell_type": "code",
   "execution_count": 0,
   "metadata": {
    "application/vnd.databricks.v1+cell": {
     "cellMetadata": {
      "byteLimit": 2048000,
      "rowLimit": 10000
     },
     "inputWidgets": {},
     "nuid": "66ecde3d-0412-4366-bad7-8d35ef1036c2",
     "showTitle": false,
     "title": ""
    }
   },
   "outputs": [],
   "source": [
    "componenetes_musica = musicas_recomendadas.filter(musicas_recomendadas.artists_song == nome_musica)\\\n",
    "                                          .select('pca_features').collect()[0][0]\n",
    "componenetes_musica                             "
   ]
  },
  {
   "cell_type": "code",
   "execution_count": 0,
   "metadata": {
    "application/vnd.databricks.v1+cell": {
     "cellMetadata": {
      "byteLimit": 2048000,
      "rowLimit": 10000
     },
     "inputWidgets": {},
     "nuid": "2d8c6def-38bc-4a15-bf6a-466cccdfa297",
     "showTitle": false,
     "title": ""
    }
   },
   "outputs": [],
   "source": [
    "from scipy.spatial.distance import euclidean"
   ]
  },
  {
   "cell_type": "code",
   "execution_count": 0,
   "metadata": {
    "application/vnd.databricks.v1+cell": {
     "cellMetadata": {
      "byteLimit": 2048000,
      "rowLimit": 10000
     },
     "inputWidgets": {},
     "nuid": "9b4b1611-e2fc-4ee3-b7d7-c58b085423e5",
     "showTitle": false,
     "title": ""
    }
   },
   "outputs": [],
   "source": [
    "def calcula_distance(value):\n",
    "    return euclidean(componenetes_musica, value)"
   ]
  },
  {
   "cell_type": "code",
   "execution_count": 0,
   "metadata": {
    "application/vnd.databricks.v1+cell": {
     "cellMetadata": {
      "byteLimit": 2048000,
      "rowLimit": 10000
     },
     "inputWidgets": {},
     "nuid": "39de12f0-847e-4ff0-9559-e222c357b09b",
     "showTitle": false,
     "title": ""
    }
   },
   "outputs": [],
   "source": [
    "from pyspark.sql.types import FloatType\n",
    "import pyspark.sql.functions as f"
   ]
  },
  {
   "cell_type": "code",
   "execution_count": 0,
   "metadata": {
    "application/vnd.databricks.v1+cell": {
     "cellMetadata": {
      "byteLimit": 2048000,
      "rowLimit": 10000
     },
     "inputWidgets": {},
     "nuid": "9a786029-4b02-46a8-8248-74a13a2b83b5",
     "showTitle": false,
     "title": ""
    }
   },
   "outputs": [],
   "source": [
    "udf_calcula_distance = f.udf(calcula_distance, FloatType())\n",
    "musicas_recomendadas_dist = musicas_recomendadas.withColumn('Dist', udf_calcula_distance('pca_features'))\n",
    "recomendadas = spark.createDataFrame(musicas_recomendadas_dist.sort('Dist').take(10)).select(['artists_song', 'id', 'Dist'])\n",
    "recomendadas.show()"
   ]
  },
  {
   "cell_type": "code",
   "execution_count": 0,
   "metadata": {
    "application/vnd.databricks.v1+cell": {
     "cellMetadata": {
      "byteLimit": 2048000,
      "rowLimit": 10000
     },
     "inputWidgets": {},
     "nuid": "a8320dda-4d75-4260-a1fc-11d1e791b627",
     "showTitle": false,
     "title": ""
    }
   },
   "outputs": [],
   "source": [
    "def recomendador(nome_musica):\n",
    "    # Filtra o dataframe projetion_kmeans para obter o cluster da música com o nome especificado.\n",
    "    cluster = projection_kmeans.filter(projection_kmeans.artists_song == nome_musica).select('cluster_pca').collect()[0][0]\n",
    "\n",
    "    # Filtra o dataframe projetion_kmeans para obter todas as músicas que pertencem ao mesmo cluster.\n",
    "    # Seleciona apenas as colunas artists_song, id e pca_features.\n",
    "    musicas_recomendadas = projection_kmeans.filter(projection_kmeans.cluster_pca == cluster)\\\n",
    "                                           .select('artists_song', 'id', 'pca_features')\n",
    "\n",
    "    # Filtra o dataframe musicas_recomendadas para obter os componentes da música com o nome especificado.\n",
    "    # Seleciona apenas a coluna pca_features e coleta o primeiro resultado.\n",
    "    componenetes_musica = musicas_recomendadas.filter(musicas_recomendadas.artists_song == nome_musica)\\\n",
    "                                              .select('pca_features').collect()[0][0]\n",
    "\n",
    "    # Define uma função para calcular a distância euclidiana entre os componentes da música especificada e cada música recomendada.\n",
    "    def calcula_distance(value):\n",
    "        return euclidean(componenetes_musica, value)\n",
    "\n",
    "    # Cria um User-Defined Function (UDF) a partir da função calcula_distance.\n",
    "    udf_calcula_distance = f.udf(calcula_distance, FloatType())\n",
    "\n",
    "    # Adiciona uma nova coluna ao dataframe musicas_recomendadas contendo a distância entre cada música e a música especificada.\n",
    "    musicas_recomendadas_dist = musicas_recomendadas.withColumn('Dist', udf_calcula_distance('pca_features'))\n",
    "\n",
    "    # Cria um novo dataframe contendo as 10 músicas mais próximas à música especificada, ordenadas por distância.\n",
    "    recomendadas = spark.createDataFrame(musicas_recomendadas_dist.sort('Dist').take(10)).select(['artists_song', 'id', 'Dist'])\n",
    "\n",
    "    # Retorna o dataframe com as músicas recomendadas.\n",
    "    return recomendadas"
   ]
  },
  {
   "cell_type": "code",
   "execution_count": 0,
   "metadata": {
    "application/vnd.databricks.v1+cell": {
     "cellMetadata": {
      "byteLimit": 2048000,
      "rowLimit": 10000
     },
     "inputWidgets": {},
     "nuid": "38ade004-eb20-4982-868c-080675d2d5f9",
     "showTitle": false,
     "title": ""
    }
   },
   "outputs": [],
   "source": [
    "df_recomedada = recomendador('Taylor Swift - Blank Space')\n",
    "df_recomedada.show()"
   ]
  },
  {
   "cell_type": "code",
   "execution_count": 0,
   "metadata": {
    "application/vnd.databricks.v1+cell": {
     "cellMetadata": {
      "byteLimit": 2048000,
      "rowLimit": 10000
     },
     "inputWidgets": {},
     "nuid": "3871f912-a58e-420e-a7d9-3f0c11179ab2",
     "showTitle": false,
     "title": ""
    }
   },
   "outputs": [],
   "source": [
    "!pip install spotipy"
   ]
  },
  {
   "cell_type": "code",
   "execution_count": 0,
   "metadata": {
    "application/vnd.databricks.v1+cell": {
     "cellMetadata": {
      "byteLimit": 2048000,
      "rowLimit": 10000
     },
     "inputWidgets": {},
     "nuid": "c837954c-56ef-48c7-9da3-63502e71e3ef",
     "showTitle": false,
     "title": ""
    },
    "jupyter": {
     "outputs_hidden": true
    }
   },
   "outputs": [],
   "source": [
    "import spotipy\n",
    "from spotipy.oauth2 import SpotifyOAuth, SpotifyClientCredentials"
   ]
  },
  {
   "cell_type": "code",
   "execution_count": 0,
   "metadata": {
    "application/vnd.databricks.v1+cell": {
     "cellMetadata": {
      "byteLimit": 2048000,
      "rowLimit": 10000
     },
     "inputWidgets": {},
     "nuid": "d29b4c51-482e-40ae-b538-3ae11409d8b2",
     "showTitle": false,
     "title": ""
    }
   },
   "outputs": [],
   "source": [
    "scope = \"user-library-read playlist-modify-private\"\n",
    "\n",
    "OAuth = SpotifyOAuth(\n",
    "        scope=scope,         \n",
    "        redirect_uri='localhost:8888/callback',\n",
    "        client_id = '',\n",
    "        client_secret = '')"
   ]
  },
  {
   "cell_type": "code",
   "execution_count": 0,
   "metadata": {
    "application/vnd.databricks.v1+cell": {
     "cellMetadata": {
      "byteLimit": 2048000,
      "rowLimit": 10000
     },
     "inputWidgets": {},
     "nuid": "99c8aee0-60a2-45d0-8004-6f64ffcef6a0",
     "showTitle": false,
     "title": ""
    }
   },
   "outputs": [],
   "source": [
    "client_credentials_manager = SpotifyClientCredentials(client_id = '',\n",
    "                                                      client_secret = '')\n",
    "\n",
    "sp = spotipy.Spotify(client_credentials_manager = client_credentials_manager)"
   ]
  },
  {
   "cell_type": "code",
   "execution_count": 0,
   "metadata": {
    "application/vnd.databricks.v1+cell": {
     "cellMetadata": {
      "byteLimit": 2048000,
      "rowLimit": 10000
     },
     "inputWidgets": {},
     "nuid": "493cad1d-1ad0-49b6-bceb-159d93a5e81a",
     "showTitle": false,
     "title": ""
    }
   },
   "outputs": [],
   "source": [
    "id = projection_kmeans.filter(projection_kmeans.artists_song == nome_musica).select('id').collect()[0][0]\n",
    "id"
   ]
  },
  {
   "cell_type": "code",
   "execution_count": 0,
   "metadata": {
    "application/vnd.databricks.v1+cell": {
     "cellMetadata": {
      "byteLimit": 2048000,
      "rowLimit": 10000
     },
     "inputWidgets": {},
     "nuid": "aa988e2f-fa8d-4880-9778-d55f22484675",
     "showTitle": false,
     "title": ""
    }
   },
   "outputs": [],
   "source": [
    "sp.track(id)"
   ]
  },
  {
   "cell_type": "code",
   "execution_count": 0,
   "metadata": {
    "application/vnd.databricks.v1+cell": {
     "cellMetadata": {
      "byteLimit": 2048000,
      "rowLimit": 10000
     },
     "inputWidgets": {},
     "nuid": "af5cd1d0-6944-4ef0-8d14-72ed5bc5c7f1",
     "showTitle": false,
     "title": ""
    }
   },
   "outputs": [],
   "source": [
    "playlist_id = df_recomedada.select('id').collect()"
   ]
  },
  {
   "cell_type": "code",
   "execution_count": 0,
   "metadata": {
    "application/vnd.databricks.v1+cell": {
     "cellMetadata": {
      "byteLimit": 2048000,
      "rowLimit": 10000
     },
     "inputWidgets": {},
     "nuid": "7fffe3ba-04f1-4122-894d-c30fb8ef00b0",
     "showTitle": false,
     "title": ""
    }
   },
   "outputs": [],
   "source": [
    "playlist_track = []\n",
    "for id in playlist_id:\n",
    "    playlist_track.append(sp.track(id[0]))"
   ]
  },
  {
   "cell_type": "code",
   "execution_count": 0,
   "metadata": {
    "application/vnd.databricks.v1+cell": {
     "cellMetadata": {
      "byteLimit": 2048000,
      "rowLimit": 10000
     },
     "inputWidgets": {},
     "nuid": "5278cc3e-7a2a-495f-a851-f9afff6e94d1",
     "showTitle": false,
     "title": ""
    }
   },
   "outputs": [],
   "source": [
    "playlist_track"
   ]
  },
  {
   "cell_type": "code",
   "execution_count": 0,
   "metadata": {
    "application/vnd.databricks.v1+cell": {
     "cellMetadata": {
      "byteLimit": 2048000,
      "rowLimit": 10000
     },
     "inputWidgets": {},
     "nuid": "065c4805-1474-4684-9719-3be1eca0a63b",
     "showTitle": false,
     "title": ""
    }
   },
   "outputs": [],
   "source": [
    "def recomendador(nome_musica):\n",
    "    cluster = projection_kmeans.filter(projection_kmeans.artists_song == nome_musica).select('cluster_pca').collect()[0][0]\n",
    "    musicas_recomendadas = projection_kmeans.filter(projection_kmeans.cluster_pca == cluster)\\\n",
    "                                       .select('artists_song', 'id', 'pca_features')\n",
    "    componenetes_musica = musicas_recomendadas.filter(musicas_recomendadas.artists_song == nome_musica)\\\n",
    "                                          .select('pca_features').collect()[0][0]\n",
    "\n",
    "    def calcula_distance(value):\n",
    "        return euclidean(componenetes_musica, value)\n",
    "\n",
    "    udf_calcula_distance = f.udf(calcula_distance, FloatType())\n",
    "\n",
    "    musicas_recomendadas_dist = musicas_recomendadas.withColumn('Dist', udf_calcula_distance('pca_features'))\n",
    "\n",
    "    recomendadas = spark.createDataFrame(musicas_recomendadas_dist.sort('Dist').take(10)).select(['artists_song', 'id', 'Dist'])\n",
    "\n",
    "    id = projection_kmeans.filter(projection_kmeans.artists_song == nome_musica).select('id').collect()[0][0]\n",
    "\n",
    "\n",
    "    playlist_id = recomendadas.select('id').collect()\n",
    "\n",
    "    playlist_track = []\n",
    "\n",
    "    for id in playlist_id:\n",
    "        playlist_track.append(sp.track(id[0]))\n",
    "\n",
    "    return len(playlist_track)"
   ]
  },
  {
   "cell_type": "code",
   "execution_count": 0,
   "metadata": {
    "application/vnd.databricks.v1+cell": {
     "cellMetadata": {
      "byteLimit": 2048000,
      "rowLimit": 10000
     },
     "inputWidgets": {},
     "nuid": "110b5388-ff0c-4625-a626-256f25a9bbb7",
     "showTitle": false,
     "title": ""
    }
   },
   "outputs": [],
   "source": [
    "recomendador('Taylor Swift - Blank Space')"
   ]
  },
  {
   "cell_type": "code",
   "execution_count": 0,
   "metadata": {
    "application/vnd.databricks.v1+cell": {
     "cellMetadata": {
      "byteLimit": 2048000,
      "rowLimit": 10000
     },
     "inputWidgets": {},
     "nuid": "103469a6-49ea-4ccb-a4be-a5ea67c4ec5d",
     "showTitle": false,
     "title": ""
    }
   },
   "outputs": [],
   "source": [
    "import imageio"
   ]
  },
  {
   "cell_type": "code",
   "execution_count": 0,
   "metadata": {
    "application/vnd.databricks.v1+cell": {
     "cellMetadata": {
      "byteLimit": 2048000,
      "rowLimit": 10000
     },
     "inputWidgets": {},
     "nuid": "789741c0-1691-46da-8c14-a26f969d8770",
     "showTitle": false,
     "title": ""
    }
   },
   "outputs": [],
   "source": [
    "import matplotlib.pyplot as plt\n",
    "nome_musica = 'Taylor Swift - Blank Space'\n",
    "\n",
    "id = projection_kmeans\\\n",
    "          .filter(projection_kmeans.artists_song == nome_musica)\\\n",
    "          .select('id').collect()[0][0]\n",
    "\n",
    "track = sp.track(id)\n",
    "\n",
    "url = track[\"album\"][\"images\"][1][\"url\"]\n",
    "name = track[\"name\"]\n",
    "\n",
    "image = imageio.imread(url)\n",
    "plt.imshow(image)\n",
    "plt.xlabel(name, fontsize = 10)\n",
    "plt.show()"
   ]
  },
  {
   "cell_type": "code",
   "execution_count": 0,
   "metadata": {
    "application/vnd.databricks.v1+cell": {
     "cellMetadata": {
      "byteLimit": 2048000,
      "rowLimit": 10000
     },
     "inputWidgets": {},
     "nuid": "6fb7f799-3508-46e1-9f45-9af257172185",
     "showTitle": false,
     "title": ""
    }
   },
   "outputs": [],
   "source": [
    "import matplotlib.pyplot as plt\n",
    "\n",
    "\n",
    "def visualize_songs(name,url):\n",
    "\n",
    "    plt.figure(figsize=(15,10))\n",
    "    columns = 5\n",
    "    for i, u in enumerate(url):\n",
    "        ax = plt.subplot(len(url) // columns + 1, columns, i + 1)\n",
    "        image = imageio.imread(u)\n",
    "        plt.imshow(image)\n",
    "        ax.get_yaxis().set_visible(False)\n",
    "        plt.xticks(color = 'w', fontsize = 0.1)\n",
    "        plt.yticks(color = 'w', fontsize = 0.1)\n",
    "        plt.xlabel(name[i], fontsize = 10)\n",
    "        plt.tight_layout(h_pad=0.7, w_pad=0)\n",
    "        plt.subplots_adjust(wspace=None, hspace=None)\n",
    "        plt.grid(visible=None)\n",
    "    plt.show()"
   ]
  },
  {
   "cell_type": "code",
   "execution_count": 0,
   "metadata": {
    "application/vnd.databricks.v1+cell": {
     "cellMetadata": {
      "byteLimit": 2048000,
      "rowLimit": 10000
     },
     "inputWidgets": {},
     "nuid": "4c7f4bf7-155b-4596-aeb5-a4a730ae3d79",
     "showTitle": false,
     "title": ""
    }
   },
   "outputs": [],
   "source": [
    "playlist_id = df_recomedada.select('id').collect()\n",
    "\n",
    "name = []\n",
    "url = []\n",
    "for i in playlist_id:\n",
    "    track = sp.track(i[0])\n",
    "    url.append(track[\"album\"][\"images\"][1][\"url\"])\n",
    "    name.append(track[\"name\"])"
   ]
  },
  {
   "cell_type": "code",
   "execution_count": 0,
   "metadata": {
    "application/vnd.databricks.v1+cell": {
     "cellMetadata": {
      "byteLimit": 2048000,
      "rowLimit": 10000
     },
     "inputWidgets": {},
     "nuid": "ccc2cb8c-ea76-4e96-b120-fd68b1f5ca91",
     "showTitle": false,
     "title": ""
    }
   },
   "outputs": [],
   "source": [
    "visualize_songs(name,url)"
   ]
  },
  {
   "cell_type": "code",
   "execution_count": 0,
   "metadata": {
    "application/vnd.databricks.v1+cell": {
     "cellMetadata": {
      "byteLimit": 2048000,
      "rowLimit": 10000
     },
     "inputWidgets": {},
     "nuid": "7eacf2e4-77fb-42cc-9809-0fd9d34e6ad4",
     "showTitle": false,
     "title": ""
    }
   },
   "outputs": [],
   "source": [
    "def recomendador(nome_musica):\n",
    "  # Calcula musicas recomendadas\n",
    "    cluster = projection_kmeans.filter(projection_kmeans.artists_song == nome_musica).select('cluster_pca').collect()[0][0]\n",
    "    musicas_recomendadas = projection_kmeans.filter(projection_kmeans.cluster_pca == cluster)\\\n",
    "                                       .select('artists_song', 'id', 'pca_features')\n",
    "    componenetes_musica = musicas_recomendadas.filter(musicas_recomendadas.artists_song == nome_musica)\\\n",
    "                                          .select('pca_features').collect()[0][0]\n",
    "\n",
    "    def calcula_distance(value):\n",
    "        return euclidean(componenetes_musica, value)\n",
    "\n",
    "    udf_calcula_distance = f.udf(calcula_distance, FloatType())\n",
    "\n",
    "    musicas_recomendadas_dist = musicas_recomendadas.withColumn('Dist', udf_calcula_distance('pca_features'))\n",
    "\n",
    "    recomendadas = spark.createDataFrame(musicas_recomendadas_dist.sort('Dist').take(10)).select(['artists_song', 'id', 'Dist'])\n",
    "\n",
    "  #Pegar informações da API\n",
    "\n",
    "    playlist_id = recomendadas.select('id').collect()\n",
    "\n",
    "    name = []\n",
    "    url = []\n",
    "    for i in playlist_id:\n",
    "        track = sp.track(i[0])\n",
    "        url.append(track[\"album\"][\"images\"][1][\"url\"])\n",
    "        name.append(track[\"name\"])\n",
    "\n",
    "  #Plotando capas \n",
    "\n",
    "    plt.figure(figsize=(15,10))\n",
    "    columns = 5\n",
    "    for i, u in enumerate(url):\n",
    "        ax = plt.subplot(len(url) // columns + 1, columns, i + 1)\n",
    "        image = imageio.imread(u)\n",
    "        plt.imshow(image)\n",
    "        ax.get_yaxis().set_visible(False)\n",
    "        plt.xticks(color = 'w', fontsize = 0.1)\n",
    "        plt.yticks(color = 'w', fontsize = 0.1)\n",
    "        plt.xlabel(name[i], fontsize = 10)\n",
    "        plt.tight_layout(h_pad=0.7, w_pad=0)\n",
    "        plt.subplots_adjust(wspace=None, hspace=None)\n",
    "        plt.grid(visible=None)\n",
    "    plt.show()"
   ]
  },
  {
   "cell_type": "code",
   "execution_count": 0,
   "metadata": {
    "application/vnd.databricks.v1+cell": {
     "cellMetadata": {
      "byteLimit": 2048000,
      "rowLimit": 10000
     },
     "inputWidgets": {},
     "nuid": "58a49e65-d9f4-41d6-b3c6-d7fa90417c4c",
     "showTitle": false,
     "title": ""
    }
   },
   "outputs": [],
   "source": [
    "recomendador('Taylor Swift - Blank Space')"
   ]
  },
  {
   "cell_type": "code",
   "execution_count": 0,
   "metadata": {
    "application/vnd.databricks.v1+cell": {
     "cellMetadata": {},
     "inputWidgets": {},
     "nuid": "91419ecf-1c52-4941-b2b2-9511f8a9d2fb",
     "showTitle": false,
     "title": ""
    }
   },
   "outputs": [],
   "source": []
  }
 ],
 "metadata": {
  "application/vnd.databricks.v1+notebook": {
   "dashboards": [],
   "language": "python",
   "notebookMetadata": {
    "pythonIndentUnit": 4
   },
   "notebookName": "spotify_mllib_spark",
   "widgets": {}
  }
 },
 "nbformat": 4,
 "nbformat_minor": 0
}
